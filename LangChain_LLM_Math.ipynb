{
  "cells": [
    {
      "cell_type": "markdown",
      "metadata": {
        "colab_type": "text",
        "id": "view-in-github"
      },
      "source": [
        "<a href=\"https://colab.research.google.com/github/sugarforever/LangChain-Tutorials/blob/main/LangChain_LLM_Math.ipynb\" target=\"_parent\"><img src=\"https://colab.research.google.com/assets/colab-badge.svg\" alt=\"Open In Colab\"/></a>"
      ]
    },
    {
      "cell_type": "code",
      "execution_count": null,
      "metadata": {
        "colab": {
          "base_uri": "https://localhost:8080/"
        },
        "id": "f9iqJ8-RM_2Q",
        "outputId": "f4141238-2a64-4c24-a28d-bb6c8b17db19"
      },
      "outputs": [],
      "source": [
        "!pip install langchain openai"
      ]
    },
    {
      "cell_type": "code",
      "execution_count": null,
      "metadata": {
        "id": "vWAHCTE7oa8F"
      },
      "outputs": [],
      "source": [
        "from langchain.agents import load_tools\n",
        "from langchain.agents import initialize_agent\n",
        "from langchain.agents import AgentType\n",
        "from langchain.llms import OpenAI\n",
        "from langchain.chat_models import ChatOpenAI\n",
        "from langchain.chains.conversation.memory import ConversationBufferWindowMemory"
      ]
    },
    {
      "cell_type": "code",
      "execution_count": null,
      "metadata": {
        "id": "Ojv0fTD_oqxj"
      },
      "outputs": [],
      "source": [
        "OPENAI_API_KEY = 'your OpenAI API key here'"
      ]
    },
    {
      "cell_type": "code",
      "execution_count": null,
      "metadata": {
        "id": "VVwq0-yHoczv"
      },
      "outputs": [],
      "source": [
        "llm = ChatOpenAI(temperature=0, model_name=\"gpt-3.5-turbo\")\n",
        "# llm = ChatOpenAI(openai_api_key=OPENAI_API_KEY, temperature=0, model_name=\"gpt-3.5-turbo\")"
      ]
    },
    {
      "cell_type": "code",
      "execution_count": null,
      "metadata": {
        "id": "qFPyDKY0ufLs"
      },
      "outputs": [],
      "source": [
        "from langchain.tools import BaseTool\n",
        "\n",
        "class EvaluateMathExpression(BaseTool):\n",
        "    name = \"Math Evaluation\"\n",
        "    description = 'use this tool to evaluate a math expression.'\n",
        "\n",
        "    def _run(self, expr: str):\n",
        "        return eval(expr)\n",
        "    \n",
        "    def _arun(self, query: str):\n",
        "        raise NotImplementedError(\"Async operation not supported yet\")\n",
        "\n",
        "tools = [EvaluateMathExpression()]"
      ]
    },
    {
      "cell_type": "code",
      "execution_count": null,
      "metadata": {
        "id": "fkUISONKCMGQ"
      },
      "outputs": [],
      "source": [
        "agent = initialize_agent(\n",
        "    agent='chat-conversational-react-description',\n",
        "    tools=tools,\n",
        "    llm=llm,\n",
        "    verbose=True,\n",
        "    max_iterations=3,\n",
        "    early_stopping_method='generate',\n",
        "    memory=ConversationBufferWindowMemory(\n",
        "        memory_key='chat_history',\n",
        "        k=5,\n",
        "        return_messages=True\n",
        "    )\n",
        ")"
      ]
    },
    {
      "cell_type": "code",
      "execution_count": null,
      "metadata": {
        "colab": {
          "base_uri": "https://localhost:8080/"
        },
        "id": "tQXiJpQ1h5xc",
        "outputId": "fb413b11-6867-4555-c967-e09189ea04aa"
      },
      "outputs": [],
      "source": [
        "for message in agent.agent.llm_chain.prompt.messages:\n",
        "  print(message)"
      ]
    },
    {
      "cell_type": "code",
      "execution_count": null,
      "metadata": {
        "colab": {
          "base_uri": "https://localhost:8080/"
        },
        "id": "wJPk8RebvGC3",
        "outputId": "0f7f012a-eb64-44d3-8314-c77f9d3318e9"
      },
      "outputs": [],
      "source": [
        "agent(f\"What is 2 * 2 * 0.13 - 1.001?\")"
      ]
    },
    {
      "cell_type": "code",
      "execution_count": null,
      "metadata": {
        "colab": {
          "base_uri": "https://localhost:8080/"
        },
        "id": "KvC-1ZB9hURY",
        "outputId": "9797b9d0-3223-4597-d749-e93a752c897a"
      },
      "outputs": [],
      "source": [
        "2 * 2 * 0.13 - 1.001"
      ]
    },
    {
      "cell_type": "code",
      "execution_count": null,
      "metadata": {
        "id": "clEarofMhhJu"
      },
      "outputs": [],
      "source": [
        "from langchain.agents.conversational_chat.prompt import (PREFIX)\n",
        "system_message = PREFIX + \"\\n\" + '''\n",
        "Unfortunately, Assistant is terrible at maths. Assistant should always refers to available tools and never try to answer math questions by itself\n",
        "'''"
      ]
    },
    {
      "cell_type": "code",
      "execution_count": null,
      "metadata": {
        "id": "ZARVE-emhnIN"
      },
      "outputs": [],
      "source": [
        "new_prompt = agent.agent.create_prompt(\n",
        "    system_message=system_message,\n",
        "    tools=tools\n",
        ")\n",
        "\n",
        "agent.agent.llm_chain.prompt = new_prompt"
      ]
    },
    {
      "cell_type": "code",
      "execution_count": null,
      "metadata": {
        "colab": {
          "base_uri": "https://localhost:8080/"
        },
        "id": "nm1_Im67hroZ",
        "outputId": "cd7abc79-8be3-470d-d5a2-70f1c8b2623e"
      },
      "outputs": [],
      "source": [
        "agent(f\"What is 2 * 2 * 0.13 - 1.001?\")"
      ]
    },
    {
      "cell_type": "code",
      "execution_count": null,
      "metadata": {
        "colab": {
          "base_uri": "https://localhost:8080/"
        },
        "id": "6g0ri68KEC0q",
        "outputId": "6d348ff3-2e6e-4f7e-bd0c-8d637459c1e9"
      },
      "outputs": [],
      "source": [
        "agent.memory.buffer"
      ]
    }
  ],
  "metadata": {
    "accelerator": "GPU",
    "colab": {
      "authorship_tag": "ABX9TyM3TaApvacHQONh9AbS8ZKW",
      "include_colab_link": true,
      "provenance": []
    },
    "gpuClass": "standard",
    "kernelspec": {
      "display_name": "Python 3",
      "name": "python3"
    },
    "language_info": {
      "codemirror_mode": {
        "name": "ipython",
        "version": 3
      },
      "file_extension": ".py",
      "mimetype": "text/x-python",
      "name": "python",
      "nbconvert_exporter": "python",
      "pygments_lexer": "ipython3",
      "version": "3.10.11"
    }
  },
  "nbformat": 4,
  "nbformat_minor": 0
}
